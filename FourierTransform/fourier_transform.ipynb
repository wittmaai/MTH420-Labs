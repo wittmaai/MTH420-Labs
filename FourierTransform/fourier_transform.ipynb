{
 "cells": [
  {
   "cell_type": "markdown",
   "metadata": {},
   "source": [
    "<h1 align=\"center\">Volume 2: The Fourier Transform.</h1>\n",
    "\n",
    "    <Name>\n",
    "    <Class>\n",
    "    <Date>"
   ]
  },
  {
   "cell_type": "markdown",
   "metadata": {},
   "source": [
    "<h2 align=\"center\">Part 1: The Discrete Fourier Transform</h2>"
   ]
  },
  {
   "cell_type": "code",
   "execution_count": null,
   "metadata": {},
   "outputs": [],
   "source": [
    "from matplotlib import pyplot as plt"
   ]
  },
  {
   "cell_type": "code",
   "execution_count": null,
   "metadata": {
    "scrolled": true
   },
   "outputs": [],
   "source": [
    "plt.rcParams[\"figure.dpi\"] = 300             # Fix plot quality.\n",
    "plt.rcParams[\"figure.figsize\"] = (12,3)      # Change plot size / aspect (you may adjust this)."
   ]
  },
  {
   "cell_type": "code",
   "execution_count": null,
   "metadata": {
    "scrolled": true
   },
   "outputs": [],
   "source": [
    "class SoundWave(object):\n",
    "    \"\"\"A class for working with digital audio signals.\"\"\"\n",
    "\n",
    "    # Problem 1.1\n",
    "    def __init__(self, rate, samples):\n",
    "        \"\"\"Set the SoundWave class attributes.\n",
    "\n",
    "        Parameters:\n",
    "            rate (int): The sample rate of the sound.\n",
    "            samples ((n,) ndarray): NumPy array of samples.\n",
    "        \"\"\"\n",
    "        raise NotImplementedError(\"Problem 1.1 Incomplete\")\n",
    "\n",
    "    # Problems 1.1 and 1.7\n",
    "    def plot(self):\n",
    "        \"\"\"Plot the graph of the sound wave (time versus amplitude).\"\"\"\n",
    "        raise NotImplementedError(\"Problem 1.1 Incomplete\")\n",
    "\n",
    "    # Problem 1.2\n",
    "    def export(self, filename, force=False):\n",
    "        \"\"\"Generate a wav file from the sample rate and samples. \n",
    "        If the array of samples is not of type np.int16, scale it before exporting.\n",
    "\n",
    "        Parameters:\n",
    "            filename (str): The name of the wav file to export the sound to.\n",
    "        \"\"\"\n",
    "        raise NotImplementedError(\"Problem 1.2 Incomplete\")\n",
    "    \n",
    "    # Problem 1.4\n",
    "    def __add__(self, other):\n",
    "        \"\"\"Combine the samples from two SoundWave objects.\n",
    "\n",
    "        Parameters:\n",
    "            other (SoundWave): An object containing the samples to add\n",
    "                to the samples contained in this object.\n",
    "        \n",
    "        Returns:\n",
    "            (SoundWave): A new SoundWave instance with the combined samples.\n",
    "\n",
    "        Raises:\n",
    "            ValueError: if the two sample arrays are not the same length.\n",
    "        \"\"\"\n",
    "        raise NotImplementedError(\"Problem 1.4 Incomplete\")\n",
    "\n",
    "    # Problem 1.4\n",
    "    def __rshift__(self, other):\n",
    "        \"\"\"Concatentate the samples from two SoundWave objects.\n",
    "\n",
    "        Parameters:\n",
    "            other (SoundWave): An object containing the samples to concatenate\n",
    "                to the samples contained in this object.\n",
    "\n",
    "        Raises:\n",
    "            ValueError: if the two sample rates are not equal.\n",
    "        \"\"\"\n",
    "        raise NotImplementedError(\"Problem 1.4 Incomplete\")\n",
    "    \n",
    "    # Problem 2.1\n",
    "    def __mul__(self, other):\n",
    "        \"\"\"Convolve the samples from two SoundWave objects using circular convolution.\n",
    "        \n",
    "        Parameters:\n",
    "            other (SoundWave): An object containing the samples to convolve\n",
    "                with the samples contained in this object.\n",
    "        \n",
    "        Returns:\n",
    "            (SoundWave): A new SoundWave instance with the convolved samples.\n",
    "\n",
    "        Raises:\n",
    "            ValueError: if the two sample rates are not equal.\n",
    "        \"\"\"\n",
    "        raise NotImplementedError(\"Problem 2.1 Incomplete\")\n",
    "\n",
    "    # Problem 2.2\n",
    "    def __pow__(self, other):\n",
    "        \"\"\"Convolve the samples from two SoundWave objects using linear convolution.\n",
    "        \n",
    "        Parameters:\n",
    "            other (SoundWave): An object containing the samples to convolve\n",
    "                with the samples contained in this object.\n",
    "        \n",
    "        Returns:\n",
    "            (SoundWave): A new SoundWave instance with the convolved samples.\n",
    "\n",
    "        Raises:\n",
    "            ValueError: if the two sample rates are not equal.\n",
    "        \"\"\"\n",
    "        raise NotImplementedError(\"Problem 2.2 Incomplete\")\n",
    "\n",
    "    # Problem 2.4\n",
    "    def clean(self, low_freq, high_freq):\n",
    "        \"\"\"Remove a range of frequencies from the samples using the DFT. \n",
    "\n",
    "        Parameters:\n",
    "            low_freq (float): Lower bound of the frequency range to zero out.\n",
    "            high_freq (float): Higher boound of the frequency range to zero out.\n",
    "        \"\"\"\n",
    "        raise NotImplementedError(\"Problem 2.4 Incomplete\")"
   ]
  },
  {
   "cell_type": "markdown",
   "metadata": {},
   "source": [
    "### Problem 1.1\n",
    "\n",
    "- Implement `SoundWave.__init__()`.\n",
    "- Implement `SoundWave.plot()`.\n",
    "- Use the `scipy.io.wavfile.read()` and the `SoundWave` class to plot `tada.wav`."
   ]
  },
  {
   "cell_type": "code",
   "execution_count": null,
   "metadata": {},
   "outputs": [],
   "source": []
  },
  {
   "cell_type": "markdown",
   "metadata": {},
   "source": [
    "### Problem 1.2\n",
    "\n",
    "- Implement `SoundWave.export()`.\n",
    "- Use the `export()` method to create two new files containing the same sound as `tada.wav`: one without scaling, and one with scaling (use `force=True`).\n",
    "- Use `IPython.display.Audio()` to embed the original and new versions of `tada.wav` in the notebook."
   ]
  },
  {
   "cell_type": "code",
   "execution_count": null,
   "metadata": {},
   "outputs": [],
   "source": []
  },
  {
   "cell_type": "code",
   "execution_count": null,
   "metadata": {},
   "outputs": [],
   "source": []
  },
  {
   "cell_type": "code",
   "execution_count": null,
   "metadata": {},
   "outputs": [],
   "source": []
  },
  {
   "cell_type": "markdown",
   "metadata": {},
   "source": [
    "### Problem 1.3\n",
    "\n",
    "- Implement `generate_note()`.\n",
    "- Use `generate_note()` to create an A tone that lasts for two seconds. Embed it in the notebook."
   ]
  },
  {
   "cell_type": "code",
   "execution_count": null,
   "metadata": {},
   "outputs": [],
   "source": [
    "def generate_note(frequency, duration):\n",
    "    \"\"\"Generate an instance of the SoundWave class corresponding to \n",
    "    the desired soundwave. Uses sample rate of 44100 Hz.\n",
    "    \n",
    "    Parameters:\n",
    "        frequency (float): The frequency of the desired sound.\n",
    "        duration (float): The length of the desired sound in seconds.\n",
    "    \n",
    "    Returns:\n",
    "        sound (SoundWave): An instance of the SoundWave class.\n",
    "    \"\"\"\n",
    "    raise NotImplementedError(\"Problem 1.3 Incomplete\")"
   ]
  },
  {
   "cell_type": "code",
   "execution_count": null,
   "metadata": {},
   "outputs": [],
   "source": []
  },
  {
   "cell_type": "markdown",
   "metadata": {},
   "source": [
    "### Problem 1.4\n",
    "\n",
    "- Implement `SoundWave.__add__()`.\n",
    "- Generate a three-second A minor chord (A, C, and E) and embed it in the notebook.\n",
    "- Implement `SoundWave.__rshift__()`.\n",
    "- Generate the arpeggio A$\\,\\rightarrow\\,$C$\\,\\rightarrow\\,$E, where each tone lasts one second, and embed it in the notebook."
   ]
  },
  {
   "cell_type": "code",
   "execution_count": null,
   "metadata": {},
   "outputs": [],
   "source": []
  },
  {
   "cell_type": "code",
   "execution_count": null,
   "metadata": {},
   "outputs": [],
   "source": []
  },
  {
   "cell_type": "markdown",
   "metadata": {},
   "source": [
    "### Problem 1.5\n",
    "\n",
    "- Implement `simple_dft()` with the formula $c=F_nf$, where $F_n$ is the n-dimensional DFT matrix.\n",
    "- Use `np.allclose()` to check that `simple_dft()` and `scipy.fftpack.fft()` give the same result (after scaling)."
   ]
  },
  {
   "cell_type": "code",
   "execution_count": null,
   "metadata": {},
   "outputs": [],
   "source": [
    "def simple_dft(samples):\n",
    "    \"\"\"Compute the DFT of an array of samples.\n",
    "\n",
    "    Parameters:\n",
    "        samples ((n,) ndarray): an array of samples.\n",
    "    \n",
    "    Returns:\n",
    "        ((n,) ndarray): The DFT of the given array.\n",
    "    \"\"\"\n",
    "    raise NotImplementedError(\"Problem 1.5 Incomplete\")"
   ]
  },
  {
   "cell_type": "code",
   "execution_count": null,
   "metadata": {},
   "outputs": [],
   "source": []
  },
  {
   "cell_type": "markdown",
   "metadata": {},
   "source": [
    "### Problem 1.6\n",
    "\n",
    "- Implement `simple_fft()`.\n",
    "- Generate an array of $8192$ random samples and take its DFT using `simple_dft()`, `simple_fft()`, and `scipy.fftpack.fft()`.\n",
    "Print the runtimes of each computation.\n",
    "- Use `np.allclose()` to check that `simple_fft()` and `scipy.fftpack.fft()` give the same result (after scaling)."
   ]
  },
  {
   "cell_type": "code",
   "execution_count": null,
   "metadata": {},
   "outputs": [],
   "source": [
    "def simple_fft(samples, threshold=1):\n",
    "    \"\"\"Compute the DFT using the FFT algorithm.\n",
    "    \n",
    "    Parameters:\n",
    "        samples ((n,) ndarray): an array of samples.\n",
    "        threshold (int): when a subarray of samples has fewer\n",
    "            elements than this integer, use simple_dft() to\n",
    "            compute the DFT of that subarray.\n",
    "    \n",
    "    Returns:\n",
    "        ((n,) ndarray): The DFT of the given array.\n",
    "    \"\"\"\n",
    "    raise NotImplementedError(\"Problem 1.6 Incomplete\")"
   ]
  },
  {
   "cell_type": "code",
   "execution_count": null,
   "metadata": {},
   "outputs": [],
   "source": []
  },
  {
   "cell_type": "markdown",
   "metadata": {},
   "source": [
    "### Problem 1.7\n",
    "\n",
    "- Modify `SoundWave.plot()` so that it accepts a boolean. When the boolean is `True`, take the DFT of the stored samples and plot (in a new subplot) the frequencies present on the $x$-axis and the magnituds of those frequences on the $y$-axis. Only the display the first half of the plot, and adjust the $x$-axis so that it correctly shows the frequencies in Hertz.\n",
    "- Display the plot of the DFT of an A tone.\n",
    "- Display the plot of the DFT of an A minor chord."
   ]
  },
  {
   "cell_type": "code",
   "execution_count": null,
   "metadata": {},
   "outputs": [],
   "source": []
  },
  {
   "cell_type": "code",
   "execution_count": null,
   "metadata": {},
   "outputs": [],
   "source": []
  },
  {
   "cell_type": "markdown",
   "metadata": {},
   "source": [
    "### Problem 1.8\n",
    "\n",
    "Use the DFT to determine the individual notes that are present in `mystery_chord.wav`."
   ]
  },
  {
   "cell_type": "code",
   "execution_count": null,
   "metadata": {},
   "outputs": [],
   "source": []
  },
  {
   "cell_type": "code",
   "execution_count": null,
   "metadata": {},
   "outputs": [],
   "source": []
  },
  {
   "cell_type": "markdown",
   "metadata": {
    "collapsed": true
   },
   "source": [
    "The notes are..."
   ]
  },
  {
   "cell_type": "markdown",
   "metadata": {
    "collapsed": true
   },
   "source": [
    "<h2 align=\"center\">Part 2: Convolution and Filtering.</h2>"
   ]
  },
  {
   "cell_type": "markdown",
   "metadata": {},
   "source": [
    "### Problem 2.1\n",
    "\n",
    "- Implement `SoundWave.__mul__()` for circular convolution.\n",
    "- Generate 2 seconds of white noise at the same sample rate as `tada.wav`.\n",
    "- Compute the circular convolution of `tada.wav` and the white noise. Embed the result in the notebook.\n",
    "- Append the circular convolution to itself and embed the result in the notebook."
   ]
  },
  {
   "cell_type": "code",
   "execution_count": null,
   "metadata": {},
   "outputs": [],
   "source": []
  },
  {
   "cell_type": "code",
   "execution_count": null,
   "metadata": {},
   "outputs": [],
   "source": []
  },
  {
   "cell_type": "markdown",
   "metadata": {},
   "source": [
    "### Problem 2.2\n",
    "\n",
    "- Implement `SoundWave.__pow__()` for linear convolution.\n",
    "- Time the linear convolution of `CGC.wav` and `GCG.wav` using `SoundWave.__pow__()` and `scipy.signal.fftconvolve()`.\n",
    "- Embed the two original sounds and their convolutions in the notebook. Check that the convolutions with `SoundWave.__pow__()` and `scipy.signal.fftconvolve()` sound the same."
   ]
  },
  {
   "cell_type": "code",
   "execution_count": null,
   "metadata": {},
   "outputs": [],
   "source": []
  },
  {
   "cell_type": "code",
   "execution_count": null,
   "metadata": {},
   "outputs": [],
   "source": []
  },
  {
   "cell_type": "code",
   "execution_count": null,
   "metadata": {},
   "outputs": [],
   "source": []
  },
  {
   "cell_type": "code",
   "execution_count": null,
   "metadata": {},
   "outputs": [],
   "source": []
  },
  {
   "cell_type": "markdown",
   "metadata": {},
   "source": [
    "### Problem 2.3\n",
    "\n",
    "Use `SoundWave.__pow__()` or `scipy.signal.fftconvolve()` to compute the linear convolution of `chopin.wav` and `balloon.wav`.\n",
    "Embed the two original sounds and their convolution in the notebook."
   ]
  },
  {
   "cell_type": "code",
   "execution_count": null,
   "metadata": {},
   "outputs": [],
   "source": []
  },
  {
   "cell_type": "code",
   "execution_count": null,
   "metadata": {},
   "outputs": [],
   "source": []
  },
  {
   "cell_type": "code",
   "execution_count": null,
   "metadata": {},
   "outputs": [],
   "source": []
  },
  {
   "cell_type": "markdown",
   "metadata": {},
   "source": [
    "### Problem 2.4\n",
    "\n",
    "- Implement `SoundWave.clean()`.\n",
    "- Clean `noisy1.wav` by filtering out frequencies from $1250$-$2600$ Hz. Embed the original and the cleaned versions in the notebook.\n",
    "- Clean `noisy2.wav`. Embed the original and the cleaned versions in the notebook."
   ]
  },
  {
   "cell_type": "code",
   "execution_count": null,
   "metadata": {},
   "outputs": [],
   "source": []
  },
  {
   "cell_type": "code",
   "execution_count": null,
   "metadata": {},
   "outputs": [],
   "source": []
  },
  {
   "cell_type": "code",
   "execution_count": null,
   "metadata": {},
   "outputs": [],
   "source": []
  },
  {
   "cell_type": "markdown",
   "metadata": {},
   "source": [
    "### Problem 2.5\n",
    "\n",
    "- Clean `vuvuzela.wav` by filtering bad frequencies out of the left and right channels individually.\n",
    "- Recombine the left and right channels and embed the result in the notebook."
   ]
  },
  {
   "cell_type": "code",
   "execution_count": null,
   "metadata": {},
   "outputs": [],
   "source": []
  },
  {
   "cell_type": "code",
   "execution_count": null,
   "metadata": {},
   "outputs": [],
   "source": []
  },
  {
   "cell_type": "code",
   "execution_count": null,
   "metadata": {},
   "outputs": [],
   "source": []
  },
  {
   "cell_type": "code",
   "execution_count": null,
   "metadata": {},
   "outputs": [],
   "source": []
  },
  {
   "cell_type": "markdown",
   "metadata": {},
   "source": [
    "### Problem 2.6\n",
    "\n",
    "- Clean up `license_plate.png` so that the year printed on the sticker in the bottom right corner of the plate is legible.\n",
    "- Display the original and cleaned images."
   ]
  },
  {
   "cell_type": "code",
   "execution_count": null,
   "metadata": {},
   "outputs": [],
   "source": []
  },
  {
   "cell_type": "code",
   "execution_count": null,
   "metadata": {},
   "outputs": [],
   "source": []
  },
  {
   "cell_type": "markdown",
   "metadata": {},
   "source": [
    "The year on the sticker is..."
   ]
  }
 ],
 "metadata": {
  "anaconda-cloud": {},
  "kernelspec": {
   "display_name": "Python 3",
   "language": "python",
   "name": "python3"
  },
  "language_info": {
   "codemirror_mode": {
    "name": "ipython",
    "version": 3
   },
   "file_extension": ".py",
   "mimetype": "text/x-python",
   "name": "python",
   "nbconvert_exporter": "python",
   "pygments_lexer": "ipython3",
   "version": "3.6.7"
  }
 },
 "nbformat": 4,
 "nbformat_minor": 1
}
